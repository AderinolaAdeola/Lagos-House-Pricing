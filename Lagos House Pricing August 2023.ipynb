{
 "cells": [
  {
   "cell_type": "markdown",
   "id": "79939263",
   "metadata": {},
   "source": [
    "## Basic Exploratory Data Analysis on Lagos House Prices\n",
    "- The dataset contains 5336 records of rental properties around 7 locations in Lagos. The dataset was sourced from a Nigeria real estate company website."
   ]
  },
  {
   "cell_type": "code",
   "execution_count": 1,
   "id": "6b560f2d",
   "metadata": {},
   "outputs": [],
   "source": [
    "# import necessary libraries\n",
    "import numpy as np\n",
    "import pandas as pd\n",
    "\n",
    "import seaborn as sns\n",
    "import matplotlib.pyplot as plt"
   ]
  },
  {
   "cell_type": "code",
   "execution_count": 2,
   "id": "384d761b",
   "metadata": {},
   "outputs": [
    {
     "data": {
      "text/html": [
       "<div>\n",
       "<style scoped>\n",
       "    .dataframe tbody tr th:only-of-type {\n",
       "        vertical-align: middle;\n",
       "    }\n",
       "\n",
       "    .dataframe tbody tr th {\n",
       "        vertical-align: top;\n",
       "    }\n",
       "\n",
       "    .dataframe thead th {\n",
       "        text-align: right;\n",
       "    }\n",
       "</style>\n",
       "<table border=\"1\" class=\"dataframe\">\n",
       "  <thead>\n",
       "    <tr style=\"text-align: right;\">\n",
       "      <th></th>\n",
       "      <th>location</th>\n",
       "      <th>bed</th>\n",
       "      <th>bath</th>\n",
       "      <th>toilet</th>\n",
       "      <th>price</th>\n",
       "      <th>Property_Type</th>\n",
       "      <th>Parking_Space</th>\n",
       "      <th>Security</th>\n",
       "      <th>Electricity</th>\n",
       "      <th>Furnished</th>\n",
       "      <th>Security_Doors</th>\n",
       "      <th>CCTV</th>\n",
       "      <th>Pool</th>\n",
       "      <th>Gym</th>\n",
       "      <th>BQ</th>\n",
       "    </tr>\n",
       "  </thead>\n",
       "  <tbody>\n",
       "    <tr>\n",
       "      <th>0</th>\n",
       "      <td>yaba</td>\n",
       "      <td>1</td>\n",
       "      <td>1</td>\n",
       "      <td>2</td>\n",
       "      <td>700000.0</td>\n",
       "      <td>Mini flat</td>\n",
       "      <td>0</td>\n",
       "      <td>0</td>\n",
       "      <td>0</td>\n",
       "      <td>0</td>\n",
       "      <td>0</td>\n",
       "      <td>0</td>\n",
       "      <td>0</td>\n",
       "      <td>0</td>\n",
       "      <td>0</td>\n",
       "    </tr>\n",
       "    <tr>\n",
       "      <th>1</th>\n",
       "      <td>yaba</td>\n",
       "      <td>1</td>\n",
       "      <td>1</td>\n",
       "      <td>2</td>\n",
       "      <td>700000.0</td>\n",
       "      <td>Mini flat</td>\n",
       "      <td>0</td>\n",
       "      <td>0</td>\n",
       "      <td>0</td>\n",
       "      <td>0</td>\n",
       "      <td>0</td>\n",
       "      <td>0</td>\n",
       "      <td>0</td>\n",
       "      <td>0</td>\n",
       "      <td>0</td>\n",
       "    </tr>\n",
       "    <tr>\n",
       "      <th>2</th>\n",
       "      <td>yaba</td>\n",
       "      <td>1</td>\n",
       "      <td>1</td>\n",
       "      <td>2</td>\n",
       "      <td>650000.0</td>\n",
       "      <td>Mini flat</td>\n",
       "      <td>0</td>\n",
       "      <td>0</td>\n",
       "      <td>0</td>\n",
       "      <td>0</td>\n",
       "      <td>0</td>\n",
       "      <td>0</td>\n",
       "      <td>0</td>\n",
       "      <td>0</td>\n",
       "      <td>0</td>\n",
       "    </tr>\n",
       "    <tr>\n",
       "      <th>3</th>\n",
       "      <td>yaba</td>\n",
       "      <td>1</td>\n",
       "      <td>1</td>\n",
       "      <td>1</td>\n",
       "      <td>450000.0</td>\n",
       "      <td>Mini flat</td>\n",
       "      <td>0</td>\n",
       "      <td>0</td>\n",
       "      <td>0</td>\n",
       "      <td>0</td>\n",
       "      <td>0</td>\n",
       "      <td>0</td>\n",
       "      <td>0</td>\n",
       "      <td>0</td>\n",
       "      <td>0</td>\n",
       "    </tr>\n",
       "    <tr>\n",
       "      <th>4</th>\n",
       "      <td>yaba</td>\n",
       "      <td>3</td>\n",
       "      <td>3</td>\n",
       "      <td>4</td>\n",
       "      <td>800000.0</td>\n",
       "      <td>Detached duplex</td>\n",
       "      <td>0</td>\n",
       "      <td>1</td>\n",
       "      <td>0</td>\n",
       "      <td>0</td>\n",
       "      <td>0</td>\n",
       "      <td>0</td>\n",
       "      <td>0</td>\n",
       "      <td>0</td>\n",
       "      <td>0</td>\n",
       "    </tr>\n",
       "    <tr>\n",
       "      <th>...</th>\n",
       "      <td>...</td>\n",
       "      <td>...</td>\n",
       "      <td>...</td>\n",
       "      <td>...</td>\n",
       "      <td>...</td>\n",
       "      <td>...</td>\n",
       "      <td>...</td>\n",
       "      <td>...</td>\n",
       "      <td>...</td>\n",
       "      <td>...</td>\n",
       "      <td>...</td>\n",
       "      <td>...</td>\n",
       "      <td>...</td>\n",
       "      <td>...</td>\n",
       "      <td>...</td>\n",
       "    </tr>\n",
       "    <tr>\n",
       "      <th>5331</th>\n",
       "      <td>ajah</td>\n",
       "      <td>1</td>\n",
       "      <td>1</td>\n",
       "      <td>2</td>\n",
       "      <td>600000.0</td>\n",
       "      <td>Mini flat</td>\n",
       "      <td>1</td>\n",
       "      <td>0</td>\n",
       "      <td>0</td>\n",
       "      <td>0</td>\n",
       "      <td>0</td>\n",
       "      <td>0</td>\n",
       "      <td>0</td>\n",
       "      <td>0</td>\n",
       "      <td>0</td>\n",
       "    </tr>\n",
       "    <tr>\n",
       "      <th>5332</th>\n",
       "      <td>ajah</td>\n",
       "      <td>2</td>\n",
       "      <td>2</td>\n",
       "      <td>2</td>\n",
       "      <td>700000.0</td>\n",
       "      <td>Mini flat</td>\n",
       "      <td>1</td>\n",
       "      <td>0</td>\n",
       "      <td>0</td>\n",
       "      <td>0</td>\n",
       "      <td>0</td>\n",
       "      <td>0</td>\n",
       "      <td>0</td>\n",
       "      <td>0</td>\n",
       "      <td>0</td>\n",
       "    </tr>\n",
       "    <tr>\n",
       "      <th>5333</th>\n",
       "      <td>ajah</td>\n",
       "      <td>4</td>\n",
       "      <td>4</td>\n",
       "      <td>5</td>\n",
       "      <td>1700000.0</td>\n",
       "      <td>Semi detached duplex</td>\n",
       "      <td>1</td>\n",
       "      <td>0</td>\n",
       "      <td>0</td>\n",
       "      <td>0</td>\n",
       "      <td>0</td>\n",
       "      <td>0</td>\n",
       "      <td>0</td>\n",
       "      <td>0</td>\n",
       "      <td>0</td>\n",
       "    </tr>\n",
       "    <tr>\n",
       "      <th>5334</th>\n",
       "      <td>ajah</td>\n",
       "      <td>1</td>\n",
       "      <td>1</td>\n",
       "      <td>2</td>\n",
       "      <td>500000.0</td>\n",
       "      <td>Mini flat</td>\n",
       "      <td>0</td>\n",
       "      <td>0</td>\n",
       "      <td>0</td>\n",
       "      <td>0</td>\n",
       "      <td>0</td>\n",
       "      <td>0</td>\n",
       "      <td>0</td>\n",
       "      <td>0</td>\n",
       "      <td>0</td>\n",
       "    </tr>\n",
       "    <tr>\n",
       "      <th>5335</th>\n",
       "      <td>ajah</td>\n",
       "      <td>4</td>\n",
       "      <td>4</td>\n",
       "      <td>5</td>\n",
       "      <td>1800000.0</td>\n",
       "      <td>Semi detached duplex</td>\n",
       "      <td>1</td>\n",
       "      <td>1</td>\n",
       "      <td>0</td>\n",
       "      <td>1</td>\n",
       "      <td>0</td>\n",
       "      <td>0</td>\n",
       "      <td>0</td>\n",
       "      <td>0</td>\n",
       "      <td>0</td>\n",
       "    </tr>\n",
       "  </tbody>\n",
       "</table>\n",
       "<p>5336 rows × 15 columns</p>\n",
       "</div>"
      ],
      "text/plain": [
       "     location  bed  bath  toilet      price         Property_Type  \\\n",
       "0        yaba    1     1       2   700000.0             Mini flat   \n",
       "1        yaba    1     1       2   700000.0             Mini flat   \n",
       "2        yaba    1     1       2   650000.0             Mini flat   \n",
       "3        yaba    1     1       1   450000.0             Mini flat   \n",
       "4        yaba    3     3       4   800000.0       Detached duplex   \n",
       "...       ...  ...   ...     ...        ...                   ...   \n",
       "5331     ajah    1     1       2   600000.0             Mini flat   \n",
       "5332     ajah    2     2       2   700000.0             Mini flat   \n",
       "5333     ajah    4     4       5  1700000.0  Semi detached duplex   \n",
       "5334     ajah    1     1       2   500000.0             Mini flat   \n",
       "5335     ajah    4     4       5  1800000.0  Semi detached duplex   \n",
       "\n",
       "      Parking_Space  Security  Electricity  Furnished  Security_Doors  CCTV  \\\n",
       "0                 0         0            0          0               0     0   \n",
       "1                 0         0            0          0               0     0   \n",
       "2                 0         0            0          0               0     0   \n",
       "3                 0         0            0          0               0     0   \n",
       "4                 0         1            0          0               0     0   \n",
       "...             ...       ...          ...        ...             ...   ...   \n",
       "5331              1         0            0          0               0     0   \n",
       "5332              1         0            0          0               0     0   \n",
       "5333              1         0            0          0               0     0   \n",
       "5334              0         0            0          0               0     0   \n",
       "5335              1         1            0          1               0     0   \n",
       "\n",
       "      Pool  Gym  BQ  \n",
       "0        0    0   0  \n",
       "1        0    0   0  \n",
       "2        0    0   0  \n",
       "3        0    0   0  \n",
       "4        0    0   0  \n",
       "...    ...  ...  ..  \n",
       "5331     0    0   0  \n",
       "5332     0    0   0  \n",
       "5333     0    0   0  \n",
       "5334     0    0   0  \n",
       "5335     0    0   0  \n",
       "\n",
       "[5336 rows x 15 columns]"
      ]
     },
     "execution_count": 2,
     "metadata": {},
     "output_type": "execute_result"
    }
   ],
   "source": [
    "# load and read the dataset\n",
    "lagos_data = pd.read_csv(r'C:\\Users\\user\\OneDrive\\Documents\\ML Notebooks\\Python_for_Data_Science_files\\lagos_house_prices_raw.csv') # excel\n",
    "lagos_data"
   ]
  },
  {
   "cell_type": "code",
   "execution_count": 3,
   "id": "9c26f762",
   "metadata": {},
   "outputs": [
    {
     "data": {
      "text/html": [
       "<div>\n",
       "<style scoped>\n",
       "    .dataframe tbody tr th:only-of-type {\n",
       "        vertical-align: middle;\n",
       "    }\n",
       "\n",
       "    .dataframe tbody tr th {\n",
       "        vertical-align: top;\n",
       "    }\n",
       "\n",
       "    .dataframe thead th {\n",
       "        text-align: right;\n",
       "    }\n",
       "</style>\n",
       "<table border=\"1\" class=\"dataframe\">\n",
       "  <thead>\n",
       "    <tr style=\"text-align: right;\">\n",
       "      <th></th>\n",
       "      <th>location</th>\n",
       "      <th>bed</th>\n",
       "      <th>bath</th>\n",
       "      <th>toilet</th>\n",
       "      <th>price</th>\n",
       "      <th>Property_Type</th>\n",
       "      <th>Parking_Space</th>\n",
       "      <th>Security</th>\n",
       "      <th>Electricity</th>\n",
       "      <th>Furnished</th>\n",
       "      <th>Security_Doors</th>\n",
       "      <th>CCTV</th>\n",
       "      <th>Pool</th>\n",
       "      <th>Gym</th>\n",
       "      <th>BQ</th>\n",
       "    </tr>\n",
       "  </thead>\n",
       "  <tbody>\n",
       "    <tr>\n",
       "      <th>0</th>\n",
       "      <td>yaba</td>\n",
       "      <td>1</td>\n",
       "      <td>1</td>\n",
       "      <td>2</td>\n",
       "      <td>700000.0</td>\n",
       "      <td>Mini flat</td>\n",
       "      <td>0</td>\n",
       "      <td>0</td>\n",
       "      <td>0</td>\n",
       "      <td>0</td>\n",
       "      <td>0</td>\n",
       "      <td>0</td>\n",
       "      <td>0</td>\n",
       "      <td>0</td>\n",
       "      <td>0</td>\n",
       "    </tr>\n",
       "    <tr>\n",
       "      <th>1</th>\n",
       "      <td>yaba</td>\n",
       "      <td>1</td>\n",
       "      <td>1</td>\n",
       "      <td>2</td>\n",
       "      <td>700000.0</td>\n",
       "      <td>Mini flat</td>\n",
       "      <td>0</td>\n",
       "      <td>0</td>\n",
       "      <td>0</td>\n",
       "      <td>0</td>\n",
       "      <td>0</td>\n",
       "      <td>0</td>\n",
       "      <td>0</td>\n",
       "      <td>0</td>\n",
       "      <td>0</td>\n",
       "    </tr>\n",
       "    <tr>\n",
       "      <th>2</th>\n",
       "      <td>yaba</td>\n",
       "      <td>1</td>\n",
       "      <td>1</td>\n",
       "      <td>2</td>\n",
       "      <td>650000.0</td>\n",
       "      <td>Mini flat</td>\n",
       "      <td>0</td>\n",
       "      <td>0</td>\n",
       "      <td>0</td>\n",
       "      <td>0</td>\n",
       "      <td>0</td>\n",
       "      <td>0</td>\n",
       "      <td>0</td>\n",
       "      <td>0</td>\n",
       "      <td>0</td>\n",
       "    </tr>\n",
       "    <tr>\n",
       "      <th>3</th>\n",
       "      <td>yaba</td>\n",
       "      <td>1</td>\n",
       "      <td>1</td>\n",
       "      <td>1</td>\n",
       "      <td>450000.0</td>\n",
       "      <td>Mini flat</td>\n",
       "      <td>0</td>\n",
       "      <td>0</td>\n",
       "      <td>0</td>\n",
       "      <td>0</td>\n",
       "      <td>0</td>\n",
       "      <td>0</td>\n",
       "      <td>0</td>\n",
       "      <td>0</td>\n",
       "      <td>0</td>\n",
       "    </tr>\n",
       "    <tr>\n",
       "      <th>4</th>\n",
       "      <td>yaba</td>\n",
       "      <td>3</td>\n",
       "      <td>3</td>\n",
       "      <td>4</td>\n",
       "      <td>800000.0</td>\n",
       "      <td>Detached duplex</td>\n",
       "      <td>0</td>\n",
       "      <td>1</td>\n",
       "      <td>0</td>\n",
       "      <td>0</td>\n",
       "      <td>0</td>\n",
       "      <td>0</td>\n",
       "      <td>0</td>\n",
       "      <td>0</td>\n",
       "      <td>0</td>\n",
       "    </tr>\n",
       "  </tbody>\n",
       "</table>\n",
       "</div>"
      ],
      "text/plain": [
       "  location  bed  bath  toilet     price    Property_Type  Parking_Space  \\\n",
       "0     yaba    1     1       2  700000.0        Mini flat              0   \n",
       "1     yaba    1     1       2  700000.0        Mini flat              0   \n",
       "2     yaba    1     1       2  650000.0        Mini flat              0   \n",
       "3     yaba    1     1       1  450000.0        Mini flat              0   \n",
       "4     yaba    3     3       4  800000.0  Detached duplex              0   \n",
       "\n",
       "   Security  Electricity  Furnished  Security_Doors  CCTV  Pool  Gym  BQ  \n",
       "0         0            0          0               0     0     0    0   0  \n",
       "1         0            0          0               0     0     0    0   0  \n",
       "2         0            0          0               0     0     0    0   0  \n",
       "3         0            0          0               0     0     0    0   0  \n",
       "4         1            0          0               0     0     0    0   0  "
      ]
     },
     "execution_count": 3,
     "metadata": {},
     "output_type": "execute_result"
    }
   ],
   "source": [
    "# check for the first five rows\n",
    "lagos_data.head()"
   ]
  },
  {
   "cell_type": "code",
   "execution_count": 4,
   "id": "d1629a9c",
   "metadata": {},
   "outputs": [
    {
     "data": {
      "text/html": [
       "<div>\n",
       "<style scoped>\n",
       "    .dataframe tbody tr th:only-of-type {\n",
       "        vertical-align: middle;\n",
       "    }\n",
       "\n",
       "    .dataframe tbody tr th {\n",
       "        vertical-align: top;\n",
       "    }\n",
       "\n",
       "    .dataframe thead th {\n",
       "        text-align: right;\n",
       "    }\n",
       "</style>\n",
       "<table border=\"1\" class=\"dataframe\">\n",
       "  <thead>\n",
       "    <tr style=\"text-align: right;\">\n",
       "      <th></th>\n",
       "      <th>location</th>\n",
       "      <th>bed</th>\n",
       "      <th>bath</th>\n",
       "      <th>toilet</th>\n",
       "      <th>price</th>\n",
       "      <th>Property_Type</th>\n",
       "      <th>Parking_Space</th>\n",
       "      <th>Security</th>\n",
       "      <th>Electricity</th>\n",
       "      <th>Furnished</th>\n",
       "      <th>Security_Doors</th>\n",
       "      <th>CCTV</th>\n",
       "      <th>Pool</th>\n",
       "      <th>Gym</th>\n",
       "      <th>BQ</th>\n",
       "    </tr>\n",
       "  </thead>\n",
       "  <tbody>\n",
       "    <tr>\n",
       "      <th>5331</th>\n",
       "      <td>ajah</td>\n",
       "      <td>1</td>\n",
       "      <td>1</td>\n",
       "      <td>2</td>\n",
       "      <td>600000.0</td>\n",
       "      <td>Mini flat</td>\n",
       "      <td>1</td>\n",
       "      <td>0</td>\n",
       "      <td>0</td>\n",
       "      <td>0</td>\n",
       "      <td>0</td>\n",
       "      <td>0</td>\n",
       "      <td>0</td>\n",
       "      <td>0</td>\n",
       "      <td>0</td>\n",
       "    </tr>\n",
       "    <tr>\n",
       "      <th>5332</th>\n",
       "      <td>ajah</td>\n",
       "      <td>2</td>\n",
       "      <td>2</td>\n",
       "      <td>2</td>\n",
       "      <td>700000.0</td>\n",
       "      <td>Mini flat</td>\n",
       "      <td>1</td>\n",
       "      <td>0</td>\n",
       "      <td>0</td>\n",
       "      <td>0</td>\n",
       "      <td>0</td>\n",
       "      <td>0</td>\n",
       "      <td>0</td>\n",
       "      <td>0</td>\n",
       "      <td>0</td>\n",
       "    </tr>\n",
       "    <tr>\n",
       "      <th>5333</th>\n",
       "      <td>ajah</td>\n",
       "      <td>4</td>\n",
       "      <td>4</td>\n",
       "      <td>5</td>\n",
       "      <td>1700000.0</td>\n",
       "      <td>Semi detached duplex</td>\n",
       "      <td>1</td>\n",
       "      <td>0</td>\n",
       "      <td>0</td>\n",
       "      <td>0</td>\n",
       "      <td>0</td>\n",
       "      <td>0</td>\n",
       "      <td>0</td>\n",
       "      <td>0</td>\n",
       "      <td>0</td>\n",
       "    </tr>\n",
       "    <tr>\n",
       "      <th>5334</th>\n",
       "      <td>ajah</td>\n",
       "      <td>1</td>\n",
       "      <td>1</td>\n",
       "      <td>2</td>\n",
       "      <td>500000.0</td>\n",
       "      <td>Mini flat</td>\n",
       "      <td>0</td>\n",
       "      <td>0</td>\n",
       "      <td>0</td>\n",
       "      <td>0</td>\n",
       "      <td>0</td>\n",
       "      <td>0</td>\n",
       "      <td>0</td>\n",
       "      <td>0</td>\n",
       "      <td>0</td>\n",
       "    </tr>\n",
       "    <tr>\n",
       "      <th>5335</th>\n",
       "      <td>ajah</td>\n",
       "      <td>4</td>\n",
       "      <td>4</td>\n",
       "      <td>5</td>\n",
       "      <td>1800000.0</td>\n",
       "      <td>Semi detached duplex</td>\n",
       "      <td>1</td>\n",
       "      <td>1</td>\n",
       "      <td>0</td>\n",
       "      <td>1</td>\n",
       "      <td>0</td>\n",
       "      <td>0</td>\n",
       "      <td>0</td>\n",
       "      <td>0</td>\n",
       "      <td>0</td>\n",
       "    </tr>\n",
       "  </tbody>\n",
       "</table>\n",
       "</div>"
      ],
      "text/plain": [
       "     location  bed  bath  toilet      price         Property_Type  \\\n",
       "5331     ajah    1     1       2   600000.0             Mini flat   \n",
       "5332     ajah    2     2       2   700000.0             Mini flat   \n",
       "5333     ajah    4     4       5  1700000.0  Semi detached duplex   \n",
       "5334     ajah    1     1       2   500000.0             Mini flat   \n",
       "5335     ajah    4     4       5  1800000.0  Semi detached duplex   \n",
       "\n",
       "      Parking_Space  Security  Electricity  Furnished  Security_Doors  CCTV  \\\n",
       "5331              1         0            0          0               0     0   \n",
       "5332              1         0            0          0               0     0   \n",
       "5333              1         0            0          0               0     0   \n",
       "5334              0         0            0          0               0     0   \n",
       "5335              1         1            0          1               0     0   \n",
       "\n",
       "      Pool  Gym  BQ  \n",
       "5331     0    0   0  \n",
       "5332     0    0   0  \n",
       "5333     0    0   0  \n",
       "5334     0    0   0  \n",
       "5335     0    0   0  "
      ]
     },
     "execution_count": 4,
     "metadata": {},
     "output_type": "execute_result"
    }
   ],
   "source": [
    "# check for the last five rows\n",
    "lagos_data.tail()"
   ]
  },
  {
   "cell_type": "markdown",
   "id": "98df3413",
   "metadata": {},
   "source": [
    "## Data Inspection and Manipulation"
   ]
  },
  {
   "cell_type": "code",
   "execution_count": 5,
   "id": "abe11b0c",
   "metadata": {},
   "outputs": [
    {
     "data": {
      "text/plain": [
       "(5336, 15)"
      ]
     },
     "execution_count": 5,
     "metadata": {},
     "output_type": "execute_result"
    }
   ],
   "source": [
    "# shape of the data\n",
    "lagos_data.shape"
   ]
  },
  {
   "cell_type": "code",
   "execution_count": 6,
   "id": "857f350f",
   "metadata": {},
   "outputs": [
    {
     "data": {
      "text/plain": [
       "Index(['location', 'bed', 'bath', 'toilet', 'price', 'Property_Type',\n",
       "       'Parking_Space', 'Security', 'Electricity', 'Furnished',\n",
       "       'Security_Doors', 'CCTV', 'Pool', 'Gym', 'BQ'],\n",
       "      dtype='object')"
      ]
     },
     "execution_count": 6,
     "metadata": {},
     "output_type": "execute_result"
    }
   ],
   "source": [
    "# check the columns\n",
    "lagos_data.columns"
   ]
  },
  {
   "cell_type": "code",
   "execution_count": 7,
   "id": "1bf9b862",
   "metadata": {},
   "outputs": [
    {
     "data": {
      "text/plain": [
       "location           object\n",
       "bed                 int64\n",
       "bath                int64\n",
       "toilet              int64\n",
       "price             float64\n",
       "Property_Type      object\n",
       "Parking_Space       int64\n",
       "Security            int64\n",
       "Electricity         int64\n",
       "Furnished           int64\n",
       "Security_Doors      int64\n",
       "CCTV                int64\n",
       "Pool                int64\n",
       "Gym                 int64\n",
       "BQ                  int64\n",
       "dtype: object"
      ]
     },
     "execution_count": 7,
     "metadata": {},
     "output_type": "execute_result"
    }
   ],
   "source": [
    "# check the data types\n",
    "lagos_data.dtypes"
   ]
  },
  {
   "cell_type": "code",
   "execution_count": 8,
   "id": "5c66857f",
   "metadata": {},
   "outputs": [
    {
     "name": "stdout",
     "output_type": "stream",
     "text": [
      "<class 'pandas.core.frame.DataFrame'>\n",
      "RangeIndex: 5336 entries, 0 to 5335\n",
      "Data columns (total 15 columns):\n",
      " #   Column          Non-Null Count  Dtype  \n",
      "---  ------          --------------  -----  \n",
      " 0   location        5336 non-null   object \n",
      " 1   bed             5336 non-null   int64  \n",
      " 2   bath            5336 non-null   int64  \n",
      " 3   toilet          5336 non-null   int64  \n",
      " 4   price           5336 non-null   float64\n",
      " 5   Property_Type   5336 non-null   object \n",
      " 6   Parking_Space   5336 non-null   int64  \n",
      " 7   Security        5336 non-null   int64  \n",
      " 8   Electricity     5336 non-null   int64  \n",
      " 9   Furnished       5336 non-null   int64  \n",
      " 10  Security_Doors  5336 non-null   int64  \n",
      " 11  CCTV            5336 non-null   int64  \n",
      " 12  Pool            5336 non-null   int64  \n",
      " 13  Gym             5336 non-null   int64  \n",
      " 14  BQ              5336 non-null   int64  \n",
      "dtypes: float64(1), int64(12), object(2)\n",
      "memory usage: 625.4+ KB\n"
     ]
    }
   ],
   "source": [
    "# info about the data\n",
    "lagos_data.info()"
   ]
  },
  {
   "cell_type": "code",
   "execution_count": 13,
   "id": "57f7d0f3",
   "metadata": {},
   "outputs": [
    {
     "data": {
      "text/plain": [
       "location          0\n",
       "bed               0\n",
       "bath              0\n",
       "toilet            0\n",
       "price             0\n",
       "Property_Type     0\n",
       "Parking_Space     0\n",
       "Security          0\n",
       "Electricity       0\n",
       "Furnished         0\n",
       "Security_Doors    0\n",
       "CCTV              0\n",
       "Pool              0\n",
       "Gym               0\n",
       "BQ                0\n",
       "dtype: int64"
      ]
     },
     "execution_count": 13,
     "metadata": {},
     "output_type": "execute_result"
    }
   ],
   "source": [
    "# check if there are missing values # isna() # isnull()\n",
    "lagos_data.isnull().sum()"
   ]
  },
  {
   "cell_type": "code",
   "execution_count": 14,
   "id": "a0f5d15a",
   "metadata": {},
   "outputs": [
    {
     "data": {
      "image/png": "[encoded data removed]",
      "text/plain": [
       "<Figure size 720x360 with 2 Axes>"
      ]
     },
     "metadata": {
      "needs_background": "light"
     },
     "output_type": "display_data"
    }
   ],
   "source": [
    "# visualize the missing values\n",
    "plt.figure(figsize = (10, 5))\n",
    "plt.title('visualizing missing values')\n",
    "sns.heatmap(lagos_data.isnull(), cbar = True, cmap = 'magma_r')\n",
    "plt.show()"
   ]
  },
  {
   "cell_type": "markdown",
   "id": "885384a1",
   "metadata": {},
   "source": [
    "## Exploratory Data Analysis: Relationship, Insights and Visualization\n",
    "- Univariate Analysis\n",
    "- Bivariate Analysis\n",
    "- Multivariate Analysis"
   ]
  },
  {
   "cell_type": "markdown",
   "id": "34eb69a8",
   "metadata": {},
   "source": [
    "### Univariate Analysis\n",
    "- it is considering one feature of a dataset"
   ]
  },
  {
   "cell_type": "code",
   "execution_count": 15,
   "id": "63f4978c",
   "metadata": {},
   "outputs": [
    {
     "data": {
      "text/plain": [
       "Index(['location', 'bed', 'bath', 'toilet', 'price', 'Property_Type',\n",
       "       'Parking_Space', 'Security', 'Electricity', 'Furnished',\n",
       "       'Security_Doors', 'CCTV', 'Pool', 'Gym', 'BQ'],\n",
       "      dtype='object')"
      ]
     },
     "execution_count": 15,
     "metadata": {},
     "output_type": "execute_result"
    }
   ],
   "source": [
    "lagos_data.columns"
   ]
  },
  {
   "cell_type": "code",
   "execution_count": 1,
   "id": "0a80bddd",
   "metadata": {},
   "outputs": [
    {
     "ename": "NameError",
     "evalue": "name 'lagos_data' is not defined",
     "output_type": "error",
     "traceback": [
      "\u001b[1;31m---------------------------------------------------------------------------\u001b[0m",
      "\u001b[1;31mNameError\u001b[0m                                 Traceback (most recent call last)",
      "Cell \u001b[1;32mIn[1], line 2\u001b[0m\n\u001b[0;32m      1\u001b[0m \u001b[38;5;66;03m# How many listings are there per location?\u001b[39;00m\n\u001b[1;32m----> 2\u001b[0m count_listing \u001b[38;5;241m=\u001b[39m lagos_data[\u001b[38;5;124m'\u001b[39m\u001b[38;5;124mlocation\u001b[39m\u001b[38;5;124m'\u001b[39m]\u001b[38;5;241m.\u001b[39mvalue_counts()\u001b[38;5;241m.\u001b[39msort_values(ascending \u001b[38;5;241m=\u001b[39m \u001b[38;5;28;01mTrue\u001b[39;00m)\n\u001b[0;32m      3\u001b[0m count_listing\n",
      "\u001b[1;31mNameError\u001b[0m: name 'lagos_data' is not defined"
     ]
    }
   ],
   "source": [
    "# How many listings are there per location?\n",
    "count_listing = lagos_data['location'].value_counts().sort_values(ascending = True)\n",
    "count_listing"
   ]
  },
  {
   "cell_type": "code",
   "execution_count": 25,
   "id": "a0a15fcf",
   "metadata": {},
   "outputs": [
    {
     "data": {
      "image/png": "[encoded data removed]",
      "text/plain": [
       "<Figure size 576x432 with 1 Axes>"
      ]
     },
     "metadata": {
      "needs_background": "light"
     },
     "output_type": "display_data"
    }
   ],
   "source": [
    "# Set the figure size\n",
    "plt.figure(figsize=(8, 6))\n",
    "\n",
    "# Create a horizontal bar chart\n",
    "plt.barh(count_listing.index, count_listing.values)\n",
    "\n",
    "# Add data labels to the chart\n",
    "for i, v in enumerate(count_listing.values):\n",
    "    plt.text(v + 3, i + .25, str(v), color='blue', fontweight='bold')\n",
    "\n",
    "# Set the title and axis labels\n",
    "plt.title('Number of Listings per Location in Lagos')\n",
    "plt.xlabel('Number of Listings')\n",
    "plt.ylabel('Location')\n",
    "\n",
    "# Display the chart\n",
    "plt.show()\n"
   ]
  },
  {
   "cell_type": "code",
   "execution_count": null,
   "id": "294704fd",
   "metadata": {},
   "outputs": [],
   "source": [
    "### Observation\n",
    "Yaba has the highest listing with a total value of 1460 while Ikeja has the lowest with a total value of 457."
   ]
  },
  {
   "cell_type": "markdown",
   "id": "39c25baf",
   "metadata": {},
   "source": [
    "### Bivariate Analysis\n",
    "- It is a consideration of two features. It can either be categorical vs numerical or numerical vs numerical.\n"
   ]
  },
  {
   "cell_type": "code",
   "execution_count": 27,
   "id": "b2c38afa",
   "metadata": {},
   "outputs": [
    {
     "data": {
      "text/html": [
       "<div>\n",
       "<style scoped>\n",
       "    .dataframe tbody tr th:only-of-type {\n",
       "        vertical-align: middle;\n",
       "    }\n",
       "\n",
       "    .dataframe tbody tr th {\n",
       "        vertical-align: top;\n",
       "    }\n",
       "\n",
       "    .dataframe thead th {\n",
       "        text-align: right;\n",
       "    }\n",
       "</style>\n",
       "<table border=\"1\" class=\"dataframe\">\n",
       "  <thead>\n",
       "    <tr style=\"text-align: right;\">\n",
       "      <th></th>\n",
       "      <th>count</th>\n",
       "      <th>mean</th>\n",
       "      <th>std</th>\n",
       "      <th>min</th>\n",
       "      <th>25%</th>\n",
       "      <th>50%</th>\n",
       "      <th>75%</th>\n",
       "      <th>max</th>\n",
       "    </tr>\n",
       "    <tr>\n",
       "      <th>location</th>\n",
       "      <th></th>\n",
       "      <th></th>\n",
       "      <th></th>\n",
       "      <th></th>\n",
       "      <th></th>\n",
       "      <th></th>\n",
       "      <th></th>\n",
       "      <th></th>\n",
       "    </tr>\n",
       "  </thead>\n",
       "  <tbody>\n",
       "    <tr>\n",
       "      <th>ajah</th>\n",
       "      <td>900</td>\n",
       "      <td>693335</td>\n",
       "      <td>475287</td>\n",
       "      <td>120000</td>\n",
       "      <td>400000</td>\n",
       "      <td>500000</td>\n",
       "      <td>800000</td>\n",
       "      <td>2400000</td>\n",
       "    </tr>\n",
       "    <tr>\n",
       "      <th>gbagada</th>\n",
       "      <td>692</td>\n",
       "      <td>742290</td>\n",
       "      <td>451011</td>\n",
       "      <td>150</td>\n",
       "      <td>400000</td>\n",
       "      <td>600000</td>\n",
       "      <td>900000</td>\n",
       "      <td>2300000</td>\n",
       "    </tr>\n",
       "    <tr>\n",
       "      <th>ikeja</th>\n",
       "      <td>457</td>\n",
       "      <td>772700</td>\n",
       "      <td>506704</td>\n",
       "      <td>4000</td>\n",
       "      <td>450000</td>\n",
       "      <td>600000</td>\n",
       "      <td>850000</td>\n",
       "      <td>2300000</td>\n",
       "    </tr>\n",
       "    <tr>\n",
       "      <th>ikorodu</th>\n",
       "      <td>578</td>\n",
       "      <td>155095</td>\n",
       "      <td>138067</td>\n",
       "      <td>16000</td>\n",
       "      <td>100000</td>\n",
       "      <td>100000</td>\n",
       "      <td>160000</td>\n",
       "      <td>1500000</td>\n",
       "    </tr>\n",
       "    <tr>\n",
       "      <th>lekki phase 1</th>\n",
       "      <td>521</td>\n",
       "      <td>1211013</td>\n",
       "      <td>489304</td>\n",
       "      <td>3000</td>\n",
       "      <td>800000</td>\n",
       "      <td>1300000</td>\n",
       "      <td>1500000</td>\n",
       "      <td>2450000</td>\n",
       "    </tr>\n",
       "    <tr>\n",
       "      <th>surulere</th>\n",
       "      <td>728</td>\n",
       "      <td>589189</td>\n",
       "      <td>335065</td>\n",
       "      <td>130000</td>\n",
       "      <td>350000</td>\n",
       "      <td>500000</td>\n",
       "      <td>700000</td>\n",
       "      <td>2300000</td>\n",
       "    </tr>\n",
       "    <tr>\n",
       "      <th>yaba</th>\n",
       "      <td>1460</td>\n",
       "      <td>550986</td>\n",
       "      <td>331439</td>\n",
       "      <td>250</td>\n",
       "      <td>350000</td>\n",
       "      <td>450000</td>\n",
       "      <td>650000</td>\n",
       "      <td>2000000</td>\n",
       "    </tr>\n",
       "  </tbody>\n",
       "</table>\n",
       "</div>"
      ],
      "text/plain": [
       "               count     mean     std     min     25%      50%      75%  \\\n",
       "location                                                                  \n",
       "ajah             900   693335  475287  120000  400000   500000   800000   \n",
       "gbagada          692   742290  451011     150  400000   600000   900000   \n",
       "ikeja            457   772700  506704    4000  450000   600000   850000   \n",
       "ikorodu          578   155095  138067   16000  100000   100000   160000   \n",
       "lekki phase 1    521  1211013  489304    3000  800000  1300000  1500000   \n",
       "surulere         728   589189  335065  130000  350000   500000   700000   \n",
       "yaba            1460   550986  331439     250  350000   450000   650000   \n",
       "\n",
       "                   max  \n",
       "location                \n",
       "ajah           2400000  \n",
       "gbagada        2300000  \n",
       "ikeja          2300000  \n",
       "ikorodu        1500000  \n",
       "lekki phase 1  2450000  \n",
       "surulere       2300000  \n",
       "yaba           2000000  "
      ]
     },
     "execution_count": 27,
     "metadata": {},
     "output_type": "execute_result"
    }
   ],
   "source": [
    "# Summary statistics per location and price\n",
    "lagos_data.groupby('location')['price'].describe().astype('int')"
   ]
  },
  {
   "cell_type": "code",
   "execution_count": 29,
   "id": "28d85aec",
   "metadata": {},
   "outputs": [
    {
     "data": {
      "image/png": "[encoded data removed]",
      "text/plain": [
       "<Figure size 720x432 with 1 Axes>"
      ]
     },
     "metadata": {
      "needs_background": "light"
     },
     "output_type": "display_data"
    }
   ],
   "source": [
    "# view distribution of prices by location\n",
    "plt.figure(figsize = (10, 6))\n",
    "sns.boxplot(x = lagos_data['location'], y = lagos_data['price'], data = lagos_data)\n",
    "plt.title('Distribution of prices by location')\n",
    "plt.show()"
   ]
  },
  {
   "cell_type": "markdown",
   "id": "11504ccf",
   "metadata": {},
   "source": [
    "### Observation\n",
    "we can see that the most expensive houses are located in Lekki-phase 1 with the median price to be 1.25 million while the least houses are located in Ikorodu with the median price to be 100000 compared to other locations."
   ]
  },
  {
   "cell_type": "code",
   "execution_count": 31,
   "id": "0598cfe6",
   "metadata": {},
   "outputs": [
    {
     "data": {
      "text/plain": [
       "location\n",
       "lekki phase 1     0\n",
       "gbagada           1\n",
       "ajah              3\n",
       "ikeja             5\n",
       "yaba              5\n",
       "ikorodu           8\n",
       "surulere         12\n",
       "Name: CCTV, dtype: int64"
      ]
     },
     "execution_count": 31,
     "metadata": {},
     "output_type": "execute_result"
    }
   ],
   "source": [
    "# which district or location is with more security facilities like CCTV Camera?\n",
    "cctv_loc = lagos_data.groupby('location')['CCTV'].sum().sort_values()\n",
    "cctv_loc"
   ]
  },
  {
   "cell_type": "code",
   "execution_count": 40,
   "id": "d1f89389",
   "metadata": {},
   "outputs": [
    {
     "data": {
      "image/png": "[encoded data removed]",
      "text/plain": [
       "<Figure size 720x432 with 1 Axes>"
      ]
     },
     "metadata": {
      "needs_background": "light"
     },
     "output_type": "display_data"
    }
   ],
   "source": [
    "# Set the figure size\n",
    "plt.figure(figsize=(10, 6))\n",
    "\n",
    "# Create a horizontal bar chart\n",
    "plt.bar(cctv_loc.index, cctv_loc.values)\n",
    "\n",
    "# Add data labels to the chart\n",
    "for i, v in enumerate(cctv_loc.values):\n",
    "    plt.text(i, v + 0.25, str(v), color='blue', fontweight='bold', ha='center')\n",
    "\n",
    "# Set the title and axis labels\n",
    "plt.title('Location with CCTV Camera')\n",
    "plt.xlabel('location')\n",
    "plt.ylabel('count of CCTV')\n",
    "\n",
    "# Rotate the x-axis labels\n",
    "plt.xticks(rotation=45)\n",
    "\n",
    "# Display the chart\n",
    "plt.show()\n"
   ]
  },
  {
   "cell_type": "code",
   "execution_count": 2,
   "id": "e47fb595",
   "metadata": {},
   "outputs": [
    {
     "ename": "NameError",
     "evalue": "name 'lagos_data' is not defined",
     "output_type": "error",
     "traceback": [
      "\u001b[1;31m---------------------------------------------------------------------------\u001b[0m",
      "\u001b[1;31mNameError\u001b[0m                                 Traceback (most recent call last)",
      "Cell \u001b[1;32mIn[2], line 2\u001b[0m\n\u001b[0;32m      1\u001b[0m \u001b[38;5;66;03m# what houses types are the cheapest for the highest number of rooms for families that want affordable housing?\u001b[39;00m\n\u001b[1;32m----> 2\u001b[0m min_loc \u001b[38;5;241m=\u001b[39m lagos_data\u001b[38;5;241m.\u001b[39mgroupby(\u001b[38;5;124m'\u001b[39m\u001b[38;5;124mProperty_Type\u001b[39m\u001b[38;5;124m'\u001b[39m)[\u001b[38;5;124m'\u001b[39m\u001b[38;5;124mprice\u001b[39m\u001b[38;5;124m'\u001b[39m]\u001b[38;5;241m.\u001b[39mmin()\u001b[38;5;241m.\u001b[39msort_values()\n\u001b[0;32m      3\u001b[0m min_loc\n",
      "\u001b[1;31mNameError\u001b[0m: name 'lagos_data' is not defined"
     ]
    }
   ],
   "source": [
    "# what houses types are the cheapest for the highest number of rooms for families that want affordable housing?\n",
    "min_loc = lagos_data.groupby('Property_Type')['price'].min().sort_values()\n",
    "min_loc"
   ]
  },
  {
   "cell_type": "code",
   "execution_count": 46,
   "id": "5a661bbd",
   "metadata": {},
   "outputs": [
    {
     "data": {
      "image/png": "[encoded data removed]",
      "text/plain": [
       "<Figure size 1296x432 with 1 Axes>"
      ]
     },
     "metadata": {
      "needs_background": "light"
     },
     "output_type": "display_data"
    }
   ],
   "source": [
    "# view distribution of prices by Property type\n",
    "plt.figure(figsize = (18, 6))\n",
    "sns.boxplot(x = lagos_data['Property_Type'], y = lagos_data['price'], data = lagos_data)\n",
    "plt.title('Distribution of prices by property type')\n",
    "plt.show()"
   ]
  },
  {
   "cell_type": "code",
   "execution_count": 50,
   "id": "f1db47f4",
   "metadata": {},
   "outputs": [
    {
     "data": {
      "text/html": [
       "<div>\n",
       "<style scoped>\n",
       "    .dataframe tbody tr th:only-of-type {\n",
       "        vertical-align: middle;\n",
       "    }\n",
       "\n",
       "    .dataframe tbody tr th {\n",
       "        vertical-align: top;\n",
       "    }\n",
       "\n",
       "    .dataframe thead th {\n",
       "        text-align: right;\n",
       "    }\n",
       "</style>\n",
       "<table border=\"1\" class=\"dataframe\">\n",
       "  <thead>\n",
       "    <tr style=\"text-align: right;\">\n",
       "      <th>Property_Type</th>\n",
       "      <th>Blocks of flats</th>\n",
       "      <th>Detached bungalow</th>\n",
       "      <th>Detached duplex</th>\n",
       "      <th>Flat / apartment</th>\n",
       "      <th>Massionette house</th>\n",
       "      <th>Mini flat</th>\n",
       "      <th>Penthouse flat</th>\n",
       "      <th>Self contain</th>\n",
       "      <th>Semi detached bungalow</th>\n",
       "      <th>Semi detached duplex</th>\n",
       "      <th>Terraced duplex</th>\n",
       "    </tr>\n",
       "    <tr>\n",
       "      <th>location</th>\n",
       "      <th></th>\n",
       "      <th></th>\n",
       "      <th></th>\n",
       "      <th></th>\n",
       "      <th></th>\n",
       "      <th></th>\n",
       "      <th></th>\n",
       "      <th></th>\n",
       "      <th></th>\n",
       "      <th></th>\n",
       "      <th></th>\n",
       "    </tr>\n",
       "  </thead>\n",
       "  <tbody>\n",
       "    <tr>\n",
       "      <th>ajah</th>\n",
       "      <td>650000.0</td>\n",
       "      <td>600000.0</td>\n",
       "      <td>500000.0</td>\n",
       "      <td>180000.0</td>\n",
       "      <td>NaN</td>\n",
       "      <td>200000.0</td>\n",
       "      <td>700000.0</td>\n",
       "      <td>120000.0</td>\n",
       "      <td>600000.0</td>\n",
       "      <td>900000.0</td>\n",
       "      <td>750000.0</td>\n",
       "    </tr>\n",
       "    <tr>\n",
       "      <th>gbagada</th>\n",
       "      <td>650000.0</td>\n",
       "      <td>1000000.0</td>\n",
       "      <td>900000.0</td>\n",
       "      <td>45000.0</td>\n",
       "      <td>NaN</td>\n",
       "      <td>150000.0</td>\n",
       "      <td>800000.0</td>\n",
       "      <td>150.0</td>\n",
       "      <td>NaN</td>\n",
       "      <td>1200000.0</td>\n",
       "      <td>1500000.0</td>\n",
       "    </tr>\n",
       "    <tr>\n",
       "      <th>ikeja</th>\n",
       "      <td>1000000.0</td>\n",
       "      <td>1500000.0</td>\n",
       "      <td>4000.0</td>\n",
       "      <td>300000.0</td>\n",
       "      <td>NaN</td>\n",
       "      <td>200000.0</td>\n",
       "      <td>NaN</td>\n",
       "      <td>180000.0</td>\n",
       "      <td>NaN</td>\n",
       "      <td>60000.0</td>\n",
       "      <td>1800000.0</td>\n",
       "    </tr>\n",
       "    <tr>\n",
       "      <th>ikorodu</th>\n",
       "      <td>NaN</td>\n",
       "      <td>450000.0</td>\n",
       "      <td>NaN</td>\n",
       "      <td>120000.0</td>\n",
       "      <td>NaN</td>\n",
       "      <td>16000.0</td>\n",
       "      <td>NaN</td>\n",
       "      <td>36000.0</td>\n",
       "      <td>NaN</td>\n",
       "      <td>1000000.0</td>\n",
       "      <td>NaN</td>\n",
       "    </tr>\n",
       "    <tr>\n",
       "      <th>lekki phase 1</th>\n",
       "      <td>NaN</td>\n",
       "      <td>400000.0</td>\n",
       "      <td>250000.0</td>\n",
       "      <td>600000.0</td>\n",
       "      <td>2200000.0</td>\n",
       "      <td>3000.0</td>\n",
       "      <td>1600000.0</td>\n",
       "      <td>10000.0</td>\n",
       "      <td>NaN</td>\n",
       "      <td>1500000.0</td>\n",
       "      <td>1600000.0</td>\n",
       "    </tr>\n",
       "    <tr>\n",
       "      <th>surulere</th>\n",
       "      <td>500000.0</td>\n",
       "      <td>1500000.0</td>\n",
       "      <td>1000000.0</td>\n",
       "      <td>350000.0</td>\n",
       "      <td>NaN</td>\n",
       "      <td>150000.0</td>\n",
       "      <td>850000.0</td>\n",
       "      <td>130000.0</td>\n",
       "      <td>NaN</td>\n",
       "      <td>2000000.0</td>\n",
       "      <td>NaN</td>\n",
       "    </tr>\n",
       "    <tr>\n",
       "      <th>yaba</th>\n",
       "      <td>600000.0</td>\n",
       "      <td>NaN</td>\n",
       "      <td>800000.0</td>\n",
       "      <td>300000.0</td>\n",
       "      <td>NaN</td>\n",
       "      <td>35000.0</td>\n",
       "      <td>800000.0</td>\n",
       "      <td>250.0</td>\n",
       "      <td>NaN</td>\n",
       "      <td>2000000.0</td>\n",
       "      <td>NaN</td>\n",
       "    </tr>\n",
       "  </tbody>\n",
       "</table>\n",
       "</div>"
      ],
      "text/plain": [
       "Property_Type  Blocks of flats  Detached bungalow  Detached duplex  \\\n",
       "location                                                             \n",
       "ajah                  650000.0           600000.0         500000.0   \n",
       "gbagada               650000.0          1000000.0         900000.0   \n",
       "ikeja                1000000.0          1500000.0           4000.0   \n",
       "ikorodu                    NaN           450000.0              NaN   \n",
       "lekki phase 1              NaN           400000.0         250000.0   \n",
       "surulere              500000.0          1500000.0        1000000.0   \n",
       "yaba                  600000.0                NaN         800000.0   \n",
       "\n",
       "Property_Type  Flat / apartment  Massionette house  Mini flat  Penthouse flat  \\\n",
       "location                                                                        \n",
       "ajah                   180000.0                NaN   200000.0        700000.0   \n",
       "gbagada                 45000.0                NaN   150000.0        800000.0   \n",
       "ikeja                  300000.0                NaN   200000.0             NaN   \n",
       "ikorodu                120000.0                NaN    16000.0             NaN   \n",
       "lekki phase 1          600000.0          2200000.0     3000.0       1600000.0   \n",
       "surulere               350000.0                NaN   150000.0        850000.0   \n",
       "yaba                   300000.0                NaN    35000.0        800000.0   \n",
       "\n",
       "Property_Type  Self contain  Semi detached bungalow  Semi detached duplex  \\\n",
       "location                                                                    \n",
       "ajah               120000.0                600000.0              900000.0   \n",
       "gbagada               150.0                     NaN             1200000.0   \n",
       "ikeja              180000.0                     NaN               60000.0   \n",
       "ikorodu             36000.0                     NaN             1000000.0   \n",
       "lekki phase 1       10000.0                     NaN             1500000.0   \n",
       "surulere           130000.0                     NaN             2000000.0   \n",
       "yaba                  250.0                     NaN             2000000.0   \n",
       "\n",
       "Property_Type  Terraced duplex  \n",
       "location                        \n",
       "ajah                  750000.0  \n",
       "gbagada              1500000.0  \n",
       "ikeja                1800000.0  \n",
       "ikorodu                    NaN  \n",
       "lekki phase 1        1600000.0  \n",
       "surulere                   NaN  \n",
       "yaba                       NaN  "
      ]
     },
     "execution_count": 50,
     "metadata": {},
     "output_type": "execute_result"
    }
   ],
   "source": [
    "# To know the location for the cheapest self contain\n",
    "self_loc = lagos_data.groupby(['location', 'Property_Type'])['price'].min().astype('int64').unstack('Property_Type')\n",
    "self_loc"
   ]
  },
  {
   "cell_type": "code",
   "execution_count": 52,
   "id": "d1b224f3",
   "metadata": {},
   "outputs": [
    {
     "data": {
      "image/png": "[encoded data removed]",
      "text/plain": [
       "<Figure size 1440x576 with 1 Axes>"
      ]
     },
     "metadata": {
      "needs_background": "light"
     },
     "output_type": "display_data"
    }
   ],
   "source": [
    "# plot a pivot table\n",
    "self_loc.plot.bar(figsize = (20, 8))\n",
    "plt.ticklabel_format(style = 'plain', axis = 'y')\n",
    "plt.show()"
   ]
  },
  {
   "cell_type": "code",
   "execution_count": 53,
   "id": "de33f4f0",
   "metadata": {},
   "outputs": [
    {
     "data": {
      "text/plain": [
       "location\n",
       "ajah       624002009.0\n",
       "gbagada    513665150.0\n",
       "ikeja      353124000.0\n",
       "Name: price, dtype: float64"
      ]
     },
     "execution_count": 53,
     "metadata": {},
     "output_type": "execute_result"
    }
   ],
   "source": [
    "# Top 3 location by price\n",
    "top3_loc = lagos_data.groupby('location')['price'].sum()[:3]\n",
    "top3_loc"
   ]
  },
  {
   "cell_type": "code",
   "execution_count": 54,
   "id": "f330e64d",
   "metadata": {},
   "outputs": [
    {
     "data": {
      "image/png": "[encoded data removed]",
      "text/plain": [
       "<Figure size 576x432 with 1 Axes>"
      ]
     },
     "metadata": {},
     "output_type": "display_data"
    }
   ],
   "source": [
    " "
   ]
  },
  {
   "cell_type": "code",
   "execution_count": 58,
   "id": "a31ba2d1",
   "metadata": {},
   "outputs": [
    {
     "data": {
      "text/plain": [
       "location\n",
       "surulere         428930009.0\n",
       "lekki phase 1    630938000.0\n",
       "yaba             804440839.0\n",
       "Name: price, dtype: float64"
      ]
     },
     "execution_count": 58,
     "metadata": {},
     "output_type": "execute_result"
    }
   ],
   "source": [
    "# Bottom 3 locations by price\n",
    "bot3_loc = lagos_data.groupby('location')['price'].sum()[4:].sort_values()\n",
    "bot3_loc"
   ]
  },
  {
   "cell_type": "code",
   "execution_count": 59,
   "id": "29c35784",
   "metadata": {},
   "outputs": [
    {
     "data": {
      "image/png": "[encoded data removed]",
      "text/plain": [
       "<Figure size 576x432 with 1 Axes>"
      ]
     },
     "metadata": {},
     "output_type": "display_data"
    }
   ],
   "source": [
    "# Set the figure size\n",
    "fig, ax = plt.subplots(figsize=(8, 6))\n",
    "\n",
    "# Create a donut chart\n",
    "ax.pie(bot3_loc.values, labels=bot3_loc.index, autopct='%1.1f%%', startangle=90, pctdistance=0.8, labeldistance=1.1)\n",
    "ax.pie([1], colors=['white'], radius=0.6)\n",
    "\n",
    "# Add a circle to create a donut chart\n",
    "circle = plt.Circle((0,0), 0.5, color='white')\n",
    "ax.add_artist(circle)\n",
    "\n",
    "# Set the title\n",
    "plt.title('Bottom 3 Locations by Price')\n",
    "\n",
    "# Display the chart\n",
    "plt.show()\n"
   ]
  },
  {
   "cell_type": "code",
   "execution_count": 65,
   "id": "062edd84",
   "metadata": {},
   "outputs": [
    {
     "data": {
      "text/plain": [
       "<AxesSubplot:xlabel='toilet', ylabel='price'>"
      ]
     },
     "execution_count": 65,
     "metadata": {},
     "output_type": "execute_result"
    },
    {
     "data": {
      "image/png": "[encoded data removed]",
      "text/plain": [
       "<Figure size 432x288 with 1 Axes>"
      ]
     },
     "metadata": {
      "needs_background": "light"
     },
     "output_type": "display_data"
    }
   ],
   "source": [
    "# compare price and parking space\n",
    "sns.scatterplot(x = 'toilet', y = 'price', data = lagos_data)"
   ]
  },
  {
   "cell_type": "code",
   "execution_count": 66,
   "id": "bed3976c",
   "metadata": {},
   "outputs": [
    {
     "data": {
      "text/plain": [
       "<AxesSubplot:xlabel='toilet', ylabel='price'>"
      ]
     },
     "execution_count": 66,
     "metadata": {},
     "output_type": "execute_result"
    },
    {
     "data": {
      "image/png": "[encoded data removed]",
      "text/plain": [
       "<Figure size 432x288 with 1 Axes>"
      ]
     },
     "metadata": {
      "needs_background": "light"
     },
     "output_type": "display_data"
    }
   ],
   "source": [
    "# compare price and parking space\n",
    "sns.regplot(x = 'toilet', y = 'price', data = lagos_data)"
   ]
  },
  {
   "cell_type": "markdown",
   "id": "250c447e",
   "metadata": {},
   "source": [
    "## Observation\n",
    "There is a positve correlation  between price and toilet, it means as toilet increases the price of house increase."
   ]
  },
  {
   "cell_type": "code",
   "execution_count": 64,
   "id": "413f5d0e",
   "metadata": {},
   "outputs": [
    {
     "data": {
      "text/html": [
       "<div>\n",
       "<style scoped>\n",
       "    .dataframe tbody tr th:only-of-type {\n",
       "        vertical-align: middle;\n",
       "    }\n",
       "\n",
       "    .dataframe tbody tr th {\n",
       "        vertical-align: top;\n",
       "    }\n",
       "\n",
       "    .dataframe thead th {\n",
       "        text-align: right;\n",
       "    }\n",
       "</style>\n",
       "<table border=\"1\" class=\"dataframe\">\n",
       "  <thead>\n",
       "    <tr style=\"text-align: right;\">\n",
       "      <th></th>\n",
       "      <th>location</th>\n",
       "      <th>bed</th>\n",
       "      <th>bath</th>\n",
       "      <th>toilet</th>\n",
       "      <th>price</th>\n",
       "      <th>Property_Type</th>\n",
       "      <th>Parking_Space</th>\n",
       "      <th>Security</th>\n",
       "      <th>Electricity</th>\n",
       "      <th>Furnished</th>\n",
       "      <th>Security_Doors</th>\n",
       "      <th>CCTV</th>\n",
       "      <th>Pool</th>\n",
       "      <th>Gym</th>\n",
       "      <th>BQ</th>\n",
       "    </tr>\n",
       "  </thead>\n",
       "  <tbody>\n",
       "    <tr>\n",
       "      <th>0</th>\n",
       "      <td>yaba</td>\n",
       "      <td>1</td>\n",
       "      <td>1</td>\n",
       "      <td>2</td>\n",
       "      <td>700000.0</td>\n",
       "      <td>Mini flat</td>\n",
       "      <td>0</td>\n",
       "      <td>0</td>\n",
       "      <td>0</td>\n",
       "      <td>0</td>\n",
       "      <td>0</td>\n",
       "      <td>0</td>\n",
       "      <td>0</td>\n",
       "      <td>0</td>\n",
       "      <td>0</td>\n",
       "    </tr>\n",
       "    <tr>\n",
       "      <th>1</th>\n",
       "      <td>yaba</td>\n",
       "      <td>1</td>\n",
       "      <td>1</td>\n",
       "      <td>2</td>\n",
       "      <td>700000.0</td>\n",
       "      <td>Mini flat</td>\n",
       "      <td>0</td>\n",
       "      <td>0</td>\n",
       "      <td>0</td>\n",
       "      <td>0</td>\n",
       "      <td>0</td>\n",
       "      <td>0</td>\n",
       "      <td>0</td>\n",
       "      <td>0</td>\n",
       "      <td>0</td>\n",
       "    </tr>\n",
       "    <tr>\n",
       "      <th>2</th>\n",
       "      <td>yaba</td>\n",
       "      <td>1</td>\n",
       "      <td>1</td>\n",
       "      <td>2</td>\n",
       "      <td>650000.0</td>\n",
       "      <td>Mini flat</td>\n",
       "      <td>0</td>\n",
       "      <td>0</td>\n",
       "      <td>0</td>\n",
       "      <td>0</td>\n",
       "      <td>0</td>\n",
       "      <td>0</td>\n",
       "      <td>0</td>\n",
       "      <td>0</td>\n",
       "      <td>0</td>\n",
       "    </tr>\n",
       "    <tr>\n",
       "      <th>3</th>\n",
       "      <td>yaba</td>\n",
       "      <td>1</td>\n",
       "      <td>1</td>\n",
       "      <td>1</td>\n",
       "      <td>450000.0</td>\n",
       "      <td>Mini flat</td>\n",
       "      <td>0</td>\n",
       "      <td>0</td>\n",
       "      <td>0</td>\n",
       "      <td>0</td>\n",
       "      <td>0</td>\n",
       "      <td>0</td>\n",
       "      <td>0</td>\n",
       "      <td>0</td>\n",
       "      <td>0</td>\n",
       "    </tr>\n",
       "    <tr>\n",
       "      <th>4</th>\n",
       "      <td>yaba</td>\n",
       "      <td>3</td>\n",
       "      <td>3</td>\n",
       "      <td>4</td>\n",
       "      <td>800000.0</td>\n",
       "      <td>Detached duplex</td>\n",
       "      <td>0</td>\n",
       "      <td>1</td>\n",
       "      <td>0</td>\n",
       "      <td>0</td>\n",
       "      <td>0</td>\n",
       "      <td>0</td>\n",
       "      <td>0</td>\n",
       "      <td>0</td>\n",
       "      <td>0</td>\n",
       "    </tr>\n",
       "  </tbody>\n",
       "</table>\n",
       "</div>"
      ],
      "text/plain": [
       "  location  bed  bath  toilet     price    Property_Type  Parking_Space  \\\n",
       "0     yaba    1     1       2  700000.0        Mini flat              0   \n",
       "1     yaba    1     1       2  700000.0        Mini flat              0   \n",
       "2     yaba    1     1       2  650000.0        Mini flat              0   \n",
       "3     yaba    1     1       1  450000.0        Mini flat              0   \n",
       "4     yaba    3     3       4  800000.0  Detached duplex              0   \n",
       "\n",
       "   Security  Electricity  Furnished  Security_Doors  CCTV  Pool  Gym  BQ  \n",
       "0         0            0          0               0     0     0    0   0  \n",
       "1         0            0          0               0     0     0    0   0  \n",
       "2         0            0          0               0     0     0    0   0  \n",
       "3         0            0          0               0     0     0    0   0  \n",
       "4         1            0          0               0     0     0    0   0  "
      ]
     },
     "execution_count": 64,
     "metadata": {},
     "output_type": "execute_result"
    }
   ],
   "source": [
    "lagos_data.head()"
   ]
  },
  {
   "cell_type": "markdown",
   "id": "54fe6ba9",
   "metadata": {},
   "source": [
    "## Multivariate Analysis\n",
    "- it comparing two or more variables of a dataset"
   ]
  },
  {
   "cell_type": "code",
   "execution_count": 68,
   "id": "08f8519c",
   "metadata": {},
   "outputs": [
    {
     "data": {
      "text/html": [
       "<div>\n",
       "<style scoped>\n",
       "    .dataframe tbody tr th:only-of-type {\n",
       "        vertical-align: middle;\n",
       "    }\n",
       "\n",
       "    .dataframe tbody tr th {\n",
       "        vertical-align: top;\n",
       "    }\n",
       "\n",
       "    .dataframe thead th {\n",
       "        text-align: right;\n",
       "    }\n",
       "</style>\n",
       "<table border=\"1\" class=\"dataframe\">\n",
       "  <thead>\n",
       "    <tr style=\"text-align: right;\">\n",
       "      <th></th>\n",
       "      <th>bed</th>\n",
       "      <th>bath</th>\n",
       "      <th>toilet</th>\n",
       "      <th>price</th>\n",
       "      <th>Parking_Space</th>\n",
       "      <th>Security</th>\n",
       "      <th>Electricity</th>\n",
       "      <th>Furnished</th>\n",
       "      <th>Security_Doors</th>\n",
       "      <th>CCTV</th>\n",
       "      <th>Pool</th>\n",
       "      <th>Gym</th>\n",
       "      <th>BQ</th>\n",
       "    </tr>\n",
       "  </thead>\n",
       "  <tbody>\n",
       "    <tr>\n",
       "      <th>count</th>\n",
       "      <td>5336.000000</td>\n",
       "      <td>5336.000000</td>\n",
       "      <td>5336.000000</td>\n",
       "      <td>5.336000e+03</td>\n",
       "      <td>5336.000000</td>\n",
       "      <td>5336.000000</td>\n",
       "      <td>5336.000000</td>\n",
       "      <td>5336.000000</td>\n",
       "      <td>5336.000000</td>\n",
       "      <td>5336.000000</td>\n",
       "      <td>5336.000000</td>\n",
       "      <td>5336.000000</td>\n",
       "      <td>5336.000000</td>\n",
       "    </tr>\n",
       "    <tr>\n",
       "      <th>mean</th>\n",
       "      <td>1.393178</td>\n",
       "      <td>1.447901</td>\n",
       "      <td>1.637181</td>\n",
       "      <td>6.455669e+05</td>\n",
       "      <td>0.122001</td>\n",
       "      <td>0.104573</td>\n",
       "      <td>0.023051</td>\n",
       "      <td>0.020240</td>\n",
       "      <td>0.000937</td>\n",
       "      <td>0.006372</td>\n",
       "      <td>0.005997</td>\n",
       "      <td>0.001312</td>\n",
       "      <td>0.013306</td>\n",
       "    </tr>\n",
       "    <tr>\n",
       "      <th>std</th>\n",
       "      <td>0.773157</td>\n",
       "      <td>0.793780</td>\n",
       "      <td>0.965145</td>\n",
       "      <td>4.693053e+05</td>\n",
       "      <td>0.327318</td>\n",
       "      <td>0.306031</td>\n",
       "      <td>0.150079</td>\n",
       "      <td>0.140833</td>\n",
       "      <td>0.030599</td>\n",
       "      <td>0.079576</td>\n",
       "      <td>0.077215</td>\n",
       "      <td>0.036199</td>\n",
       "      <td>0.114592</td>\n",
       "    </tr>\n",
       "    <tr>\n",
       "      <th>min</th>\n",
       "      <td>1.000000</td>\n",
       "      <td>1.000000</td>\n",
       "      <td>1.000000</td>\n",
       "      <td>1.500000e+02</td>\n",
       "      <td>0.000000</td>\n",
       "      <td>0.000000</td>\n",
       "      <td>0.000000</td>\n",
       "      <td>0.000000</td>\n",
       "      <td>0.000000</td>\n",
       "      <td>0.000000</td>\n",
       "      <td>0.000000</td>\n",
       "      <td>0.000000</td>\n",
       "      <td>0.000000</td>\n",
       "    </tr>\n",
       "    <tr>\n",
       "      <th>25%</th>\n",
       "      <td>1.000000</td>\n",
       "      <td>1.000000</td>\n",
       "      <td>1.000000</td>\n",
       "      <td>3.500000e+05</td>\n",
       "      <td>0.000000</td>\n",
       "      <td>0.000000</td>\n",
       "      <td>0.000000</td>\n",
       "      <td>0.000000</td>\n",
       "      <td>0.000000</td>\n",
       "      <td>0.000000</td>\n",
       "      <td>0.000000</td>\n",
       "      <td>0.000000</td>\n",
       "      <td>0.000000</td>\n",
       "    </tr>\n",
       "    <tr>\n",
       "      <th>50%</th>\n",
       "      <td>1.000000</td>\n",
       "      <td>1.000000</td>\n",
       "      <td>1.000000</td>\n",
       "      <td>5.000000e+05</td>\n",
       "      <td>0.000000</td>\n",
       "      <td>0.000000</td>\n",
       "      <td>0.000000</td>\n",
       "      <td>0.000000</td>\n",
       "      <td>0.000000</td>\n",
       "      <td>0.000000</td>\n",
       "      <td>0.000000</td>\n",
       "      <td>0.000000</td>\n",
       "      <td>0.000000</td>\n",
       "    </tr>\n",
       "    <tr>\n",
       "      <th>75%</th>\n",
       "      <td>1.000000</td>\n",
       "      <td>2.000000</td>\n",
       "      <td>2.000000</td>\n",
       "      <td>8.000000e+05</td>\n",
       "      <td>0.000000</td>\n",
       "      <td>0.000000</td>\n",
       "      <td>0.000000</td>\n",
       "      <td>0.000000</td>\n",
       "      <td>0.000000</td>\n",
       "      <td>0.000000</td>\n",
       "      <td>0.000000</td>\n",
       "      <td>0.000000</td>\n",
       "      <td>0.000000</td>\n",
       "    </tr>\n",
       "    <tr>\n",
       "      <th>max</th>\n",
       "      <td>5.000000</td>\n",
       "      <td>5.000000</td>\n",
       "      <td>5.000000</td>\n",
       "      <td>2.450000e+06</td>\n",
       "      <td>1.000000</td>\n",
       "      <td>1.000000</td>\n",
       "      <td>1.000000</td>\n",
       "      <td>1.000000</td>\n",
       "      <td>1.000000</td>\n",
       "      <td>1.000000</td>\n",
       "      <td>1.000000</td>\n",
       "      <td>1.000000</td>\n",
       "      <td>1.000000</td>\n",
       "    </tr>\n",
       "  </tbody>\n",
       "</table>\n",
       "</div>"
      ],
      "text/plain": [
       "               bed         bath       toilet         price  Parking_Space  \\\n",
       "count  5336.000000  5336.000000  5336.000000  5.336000e+03    5336.000000   \n",
       "mean      1.393178     1.447901     1.637181  6.455669e+05       0.122001   \n",
       "std       0.773157     0.793780     0.965145  4.693053e+05       0.327318   \n",
       "min       1.000000     1.000000     1.000000  1.500000e+02       0.000000   \n",
       "25%       1.000000     1.000000     1.000000  3.500000e+05       0.000000   \n",
       "50%       1.000000     1.000000     1.000000  5.000000e+05       0.000000   \n",
       "75%       1.000000     2.000000     2.000000  8.000000e+05       0.000000   \n",
       "max       5.000000     5.000000     5.000000  2.450000e+06       1.000000   \n",
       "\n",
       "          Security  Electricity    Furnished  Security_Doors         CCTV  \\\n",
       "count  5336.000000  5336.000000  5336.000000     5336.000000  5336.000000   \n",
       "mean      0.104573     0.023051     0.020240        0.000937     0.006372   \n",
       "std       0.306031     0.150079     0.140833        0.030599     0.079576   \n",
       "min       0.000000     0.000000     0.000000        0.000000     0.000000   \n",
       "25%       0.000000     0.000000     0.000000        0.000000     0.000000   \n",
       "50%       0.000000     0.000000     0.000000        0.000000     0.000000   \n",
       "75%       0.000000     0.000000     0.000000        0.000000     0.000000   \n",
       "max       1.000000     1.000000     1.000000        1.000000     1.000000   \n",
       "\n",
       "              Pool          Gym           BQ  \n",
       "count  5336.000000  5336.000000  5336.000000  \n",
       "mean      0.005997     0.001312     0.013306  \n",
       "std       0.077215     0.036199     0.114592  \n",
       "min       0.000000     0.000000     0.000000  \n",
       "25%       0.000000     0.000000     0.000000  \n",
       "50%       0.000000     0.000000     0.000000  \n",
       "75%       0.000000     0.000000     0.000000  \n",
       "max       1.000000     1.000000     1.000000  "
      ]
     },
     "execution_count": 68,
     "metadata": {},
     "output_type": "execute_result"
    }
   ],
   "source": [
    "# Get the numerical values of the dataset\n",
    "num_values = lagos_data.describe()\n",
    "\n",
    "# Display the numerical values\n",
    "num_values"
   ]
  },
  {
   "cell_type": "code",
   "execution_count": 69,
   "id": "4d174141",
   "metadata": {},
   "outputs": [
    {
     "name": "stdout",
     "output_type": "stream",
     "text": [
      "<class 'pandas.core.frame.DataFrame'>\n",
      "RangeIndex: 5336 entries, 0 to 5335\n",
      "Data columns (total 15 columns):\n",
      " #   Column          Non-Null Count  Dtype  \n",
      "---  ------          --------------  -----  \n",
      " 0   location        5336 non-null   object \n",
      " 1   bed             5336 non-null   int64  \n",
      " 2   bath            5336 non-null   int64  \n",
      " 3   toilet          5336 non-null   int64  \n",
      " 4   price           5336 non-null   float64\n",
      " 5   Property_Type   5336 non-null   object \n",
      " 6   Parking_Space   5336 non-null   int64  \n",
      " 7   Security        5336 non-null   int64  \n",
      " 8   Electricity     5336 non-null   int64  \n",
      " 9   Furnished       5336 non-null   int64  \n",
      " 10  Security_Doors  5336 non-null   int64  \n",
      " 11  CCTV            5336 non-null   int64  \n",
      " 12  Pool            5336 non-null   int64  \n",
      " 13  Gym             5336 non-null   int64  \n",
      " 14  BQ              5336 non-null   int64  \n",
      "dtypes: float64(1), int64(12), object(2)\n",
      "memory usage: 625.4+ KB\n"
     ]
    }
   ],
   "source": [
    "lagos_data.info()"
   ]
  },
  {
   "cell_type": "code",
   "execution_count": 71,
   "id": "16ef3704",
   "metadata": {},
   "outputs": [
    {
     "data": {
      "image/png": "[encoded data removed]",
      "text/plain": [
       "<Figure size 720x432 with 2 Axes>"
      ]
     },
     "metadata": {
      "needs_background": "light"
     },
     "output_type": "display_data"
    }
   ],
   "source": [
    "# select numerical columns\n",
    "num_cols = ['bed', 'bath', 'toilet', 'price', 'Security']\n",
    "\n",
    "# calculate the correlation matrix\n",
    "corr_matrix = lagos_data[num_cols].corr()\n",
    "\n",
    "# visualize the correlation matrix with heatmap\n",
    "plt.figure(figsize = (10, 6))\n",
    "sns.heatmap(corr_matrix, annot = True)\n",
    "plt.title('Correlation matrix of numerical features')\n",
    "plt.show()"
   ]
  },
  {
   "cell_type": "code",
   "execution_count": null,
   "id": "13ab242c",
   "metadata": {},
   "outputs": [],
   "source": []
  }
 ],
 "metadata": {
  "kernelspec": {
   "display_name": "Python 3 (ipykernel)",
   "language": "python",
   "name": "python3"
  },
  "language_info": {
   "codemirror_mode": {
    "name": "ipython",
    "version": 3
   },
   "file_extension": ".py",
   "mimetype": "text/x-python",
   "name": "python",
   "nbconvert_exporter": "python",
   "pygments_lexer": "ipython3",
   "version": "3.11.4"
  }
 },
 "nbformat": 4,
 "nbformat_minor": 5
}
